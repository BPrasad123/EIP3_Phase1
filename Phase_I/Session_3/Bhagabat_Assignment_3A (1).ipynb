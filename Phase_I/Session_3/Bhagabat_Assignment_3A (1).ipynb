{
  "nbformat": 4,
  "nbformat_minor": 0,
  "metadata": {
    "colab": {
      "name": "Bhagabat_Assignment_3A.ipynb",
      "version": "0.3.2",
      "provenance": [],
      "collapsed_sections": []
    },
    "kernelspec": {
      "name": "python3",
      "display_name": "Python 3"
    },
    "accelerator": "GPU"
  },
  "cells": [
    {
      "cell_type": "markdown",
      "metadata": {
        "id": "aNyZv-Ec52ot",
        "colab_type": "text"
      },
      "source": [
        "# **Import Libraries and modules**"
      ]
    },
    {
      "cell_type": "code",
      "metadata": {
        "id": "3m3w1Cw49Zkt",
        "colab_type": "code",
        "outputId": "8d9afed4-e8c9-44f9-8044-bc407857b96e",
        "colab": {
          "base_uri": "https://localhost:8080/",
          "height": 34
        }
      },
      "source": [
        "# https://keras.io/\n",
        "!pip install -q keras\n",
        "import keras"
      ],
      "execution_count": 0,
      "outputs": [
        {
          "output_type": "stream",
          "text": [
            "Using TensorFlow backend.\n"
          ],
          "name": "stderr"
        }
      ]
    },
    {
      "cell_type": "code",
      "metadata": {
        "id": "Eso6UHE080D4",
        "colab_type": "code",
        "colab": {}
      },
      "source": [
        "import numpy as np\n",
        "\n",
        "from keras.models import Sequential\n",
        "from keras.layers import Dense, Dropout, Activation, Flatten, Add\n",
        "from keras.layers import Convolution2D, MaxPooling2D, DepthwiseConv2D, SeparableConv2D\n",
        "from keras.utils import np_utils\n",
        "from keras.preprocessing.image import ImageDataGenerator\n",
        "from keras.datasets import mnist"
      ],
      "execution_count": 0,
      "outputs": []
    },
    {
      "cell_type": "markdown",
      "metadata": {
        "id": "zByEi95J86RD",
        "colab_type": "text"
      },
      "source": [
        "### Load pre-shuffled MNIST data into train and test sets"
      ]
    },
    {
      "cell_type": "code",
      "metadata": {
        "id": "7eRM0QWN83PV",
        "colab_type": "code",
        "outputId": "90e84822-1345-4e1d-aaf4-a308aede854e",
        "colab": {
          "base_uri": "https://localhost:8080/",
          "height": 51
        }
      },
      "source": [
        "(X_train, y_train), (X_test, y_test) = mnist.load_data()"
      ],
      "execution_count": 0,
      "outputs": [
        {
          "output_type": "stream",
          "text": [
            "Downloading data from https://s3.amazonaws.com/img-datasets/mnist.npz\n",
            "11493376/11490434 [==============================] - 0s 0us/step\n"
          ],
          "name": "stdout"
        }
      ]
    },
    {
      "cell_type": "code",
      "metadata": {
        "id": "4a4Be72j8-ZC",
        "colab_type": "code",
        "outputId": "cce8ee53-5718-4c51-bed5-c0a8fbf527e5",
        "colab": {
          "base_uri": "https://localhost:8080/",
          "height": 303
        }
      },
      "source": [
        "print (X_train.shape)\n",
        "from matplotlib import pyplot as plt\n",
        "%matplotlib inline\n",
        "plt.imshow(X_train[0])"
      ],
      "execution_count": 0,
      "outputs": [
        {
          "output_type": "stream",
          "text": [
            "(60000, 28, 28)\n"
          ],
          "name": "stdout"
        },
        {
          "output_type": "execute_result",
          "data": {
            "text/plain": [
              "<matplotlib.image.AxesImage at 0x7fd2d6e8cd30>"
            ]
          },
          "metadata": {
            "tags": []
          },
          "execution_count": 4
        },
        {
          "output_type": "display_data",
          "data": {
            "image/png": "[encoded data removed]",
            "text/plain": [
              "<Figure size 432x288 with 1 Axes>"
            ]
          },
          "metadata": {
            "tags": []
          }
        }
      ]
    },
    {
      "cell_type": "code",
      "metadata": {
        "id": "ciB8MF0Vu2vP",
        "colab_type": "code",
        "outputId": "fcc52d96-2a8f-4935-c589-ab111527d40d",
        "colab": {
          "base_uri": "https://localhost:8080/",
          "height": 269
        }
      },
      "source": [
        "for i in range(0, 9):\n",
        "\tplt.subplot(330 + 1 + i)\n",
        "\tplt.imshow(X_train[i])\n",
        "plt.show()"
      ],
      "execution_count": 0,
      "outputs": [
        {
          "output_type": "display_data",
          "data": {
            "image/png": "[encoded data removed]",
            "text/plain": [
              "<Figure size 432x288 with 9 Axes>"
            ]
          },
          "metadata": {
            "tags": []
          }
        }
      ]
    },
    {
      "cell_type": "code",
      "metadata": {
        "id": "dkmprriw9AnZ",
        "colab_type": "code",
        "colab": {}
      },
      "source": [
        "X_train = X_train.reshape(X_train.shape[0], 28, 28,1)\n",
        "X_test = X_test.reshape(X_test.shape[0], 28, 28,1)"
      ],
      "execution_count": 0,
      "outputs": []
    },
    {
      "cell_type": "code",
      "metadata": {
        "id": "X2m4YS4E9CRh",
        "colab_type": "code",
        "colab": {}
      },
      "source": [
        "X_train = X_train.astype('float32')\n",
        "X_test = X_test.astype('float32')\n",
        "X_train /= 255\n",
        "X_test /= 255"
      ],
      "execution_count": 0,
      "outputs": []
    },
    {
      "cell_type": "markdown",
      "metadata": {
        "id": "EScmH3LdLg8k",
        "colab_type": "text"
      },
      "source": [
        "Tried incorporating image augmentation but that did not help. Will be working on it further to investigate and come up with a solution"
      ]
    },
    {
      "cell_type": "code",
      "metadata": {
        "id": "aZrZlVOPwMvV",
        "colab_type": "code",
        "outputId": "bc202e9a-0a90-4fcb-c2e9-e40c82101848",
        "colab": {
          "base_uri": "https://localhost:8080/",
          "height": 268
        }
      },
      "source": [
        "############################## Code for image augmentation using Keras #########################################\n",
        "\n",
        "\n",
        "### Commented as it did not help. Will work on it further. ###################\n",
        "\n",
        "\n",
        "#datagen = ImageDataGenerator(featurewise_center=True, featurewise_std_normalization=True)\n",
        "#datagen = ImageDataGenerator(zca_whitening=True)    #no need\n",
        "#datagen = ImageDataGenerator(rotation_range=30)\n",
        "#datagen = ImageDataGenerator(width_shift_range=0.1, height_shift_range=0.1)\n",
        "#datagen = ImageDataGenerator(horizontal_flip=False, vertical_flip=True) no need\n",
        "#datagen = ImageDataGenerator(zoom_range=[0.8, 1.5])\n",
        "#datagen = ImageDataGenerator(fill_mode='nearest')\n",
        "\n",
        "#datagen = ImageDataGenerator(featurewise_center=True, \n",
        "#                             featurewise_std_normalization=True,\n",
        "#                             rotation_range=30,\n",
        "#                             width_shift_range=0.1, height_shift_range=0.1,\n",
        "#                             zoom_range=[0.8, 1.5],\n",
        "#                             fill_mode='nearest')\n",
        "# fit parameters from data\n",
        "#datagen.fit(X_train)\n",
        "# configure batch size and retrieve one batch of images\n",
        "#for X_batch, y_batch in datagen.flow(X_train, y_train, batch_size=9):\n",
        "\t# create a grid of 3x3 images\n",
        "#\tfor i in range(0, 9):\n",
        "#\tplt.subplot(330 + 1 + i)\n",
        "#\tplt.imshow(X_batch[i].reshape(28, 28))\n",
        "\t# show the plot\n",
        "#plt.show()\n",
        "#break"
      ],
      "execution_count": 0,
      "outputs": [
        {
          "output_type": "display_data",
          "data": {
            "image/png": "[encoded data removed]",
            "text/plain": [
              "<Figure size 432x288 with 9 Axes>"
            ]
          },
          "metadata": {
            "tags": []
          }
        }
      ]
    },
    {
      "cell_type": "code",
      "metadata": {
        "id": "0Mn0vAYD9DvB",
        "colab_type": "code",
        "outputId": "2c7f35d3-0827-474a-8e82-bd8d23c3de0d",
        "colab": {
          "base_uri": "https://localhost:8080/",
          "height": 34
        }
      },
      "source": [
        "y_train[:10]"
      ],
      "execution_count": 0,
      "outputs": [
        {
          "output_type": "execute_result",
          "data": {
            "text/plain": [
              "array([5, 0, 4, 1, 9, 2, 1, 3, 1, 4], dtype=uint8)"
            ]
          },
          "metadata": {
            "tags": []
          },
          "execution_count": 8
        }
      ]
    },
    {
      "cell_type": "code",
      "metadata": {
        "id": "ZG8JiXR39FHC",
        "colab_type": "code",
        "colab": {}
      },
      "source": [
        "# Convert 1-dimensional class arrays to 10-dimensional class matrices\n",
        "Y_train = np_utils.to_categorical(y_train, 10)\n",
        "Y_test = np_utils.to_categorical(y_test, 10)"
      ],
      "execution_count": 0,
      "outputs": []
    },
    {
      "cell_type": "code",
      "metadata": {
        "id": "fYlFRvKS9HMB",
        "colab_type": "code",
        "outputId": "f7eccbff-2bb8-406f-b82b-e6dd2b71dc16",
        "colab": {
          "base_uri": "https://localhost:8080/",
          "height": 187
        }
      },
      "source": [
        "Y_train[:10]\n"
      ],
      "execution_count": 0,
      "outputs": [
        {
          "output_type": "execute_result",
          "data": {
            "text/plain": [
              "array([[0., 0., 0., 0., 0., 1., 0., 0., 0., 0.],\n",
              "       [1., 0., 0., 0., 0., 0., 0., 0., 0., 0.],\n",
              "       [0., 0., 0., 0., 1., 0., 0., 0., 0., 0.],\n",
              "       [0., 1., 0., 0., 0., 0., 0., 0., 0., 0.],\n",
              "       [0., 0., 0., 0., 0., 0., 0., 0., 0., 1.],\n",
              "       [0., 0., 1., 0., 0., 0., 0., 0., 0., 0.],\n",
              "       [0., 1., 0., 0., 0., 0., 0., 0., 0., 0.],\n",
              "       [0., 0., 0., 1., 0., 0., 0., 0., 0., 0.],\n",
              "       [0., 1., 0., 0., 0., 0., 0., 0., 0., 0.],\n",
              "       [0., 0., 0., 0., 1., 0., 0., 0., 0., 0.]], dtype=float32)"
            ]
          },
          "metadata": {
            "tags": []
          },
          "execution_count": 10
        }
      ]
    },
    {
      "cell_type": "code",
      "metadata": {
        "id": "F-XALj0fuUIB",
        "colab_type": "code",
        "colab": {}
      },
      "source": [
        "########################################### Part of code for image augmentation ######################################\n",
        "\n",
        "### Commented as it did not help. Will work on it further. ###################\n",
        "\n",
        "#datagen = ImageDataGenerator(featurewise_center=True, \n",
        "#                             featurewise_std_normalization=True,\n",
        "#                             rotation_range=30,\n",
        "#                             width_shift_range=0.1, height_shift_range=0.1,\n",
        "#                             zoom_range=[0.8, 1.5],\n",
        "#                             fill_mode='nearest')\n"
      ],
      "execution_count": 0,
      "outputs": []
    },
    {
      "cell_type": "markdown",
      "metadata": {
        "id": "n6_4IBx9OGAS",
        "colab_type": "text"
      },
      "source": [
        "Using separable convolution to reduce the number of parameters."
      ]
    },
    {
      "cell_type": "code",
      "metadata": {
        "id": "ubBpTodHRP9_",
        "colab_type": "code",
        "outputId": "894b91ee-46f9-4775-cafb-43ef78ad1891",
        "colab": {
          "base_uri": "https://localhost:8080/",
          "height": 258
        }
      },
      "source": [
        "from keras.layers import Activation\n",
        "model = Sequential()\n",
        "\n",
        " \n",
        "model.add(Convolution2D(32, 3, 3, activation='relu', input_shape=(28,28,1)))  # 26, 32\n",
        "model.add(SeparableConv2D(64, 3, 3, activation='relu'))  # 24, 64       \n",
        "model.add(SeparableConv2D(64, 3, 3, activation='relu')) # 22, 64\n",
        "model.add(Convolution2D(32, 1, activation='relu'))  #22, 32\n",
        "model.add(MaxPooling2D(pool_size=(2, 2)))   # 11, 32\n",
        "\n",
        "\n",
        "model.add(SeparableConv2D(32, 3, 3, activation='relu'))  # 9, 32\n",
        "model.add(SeparableConv2D(64, 3, 3, activation='relu'))  # 7, 64\n",
        "model.add(Convolution2D(10, 1, activation='relu'))  #7, 10\n",
        "model.add(MaxPooling2D(pool_size=(2, 2)))   # 3, 10\n",
        "\n",
        "model.add(Convolution2D(10, 3))\n",
        "\n",
        "model.add(Flatten())\n",
        "model.add(Activation('softmax'))"
      ],
      "execution_count": 0,
      "outputs": [
        {
          "output_type": "stream",
          "text": [
            "WARNING:tensorflow:From /usr/local/lib/python3.6/dist-packages/tensorflow/python/framework/op_def_library.py:263: colocate_with (from tensorflow.python.framework.ops) is deprecated and will be removed in a future version.\n",
            "Instructions for updating:\n",
            "Colocations handled automatically by placer.\n"
          ],
          "name": "stdout"
        },
        {
          "output_type": "stream",
          "text": [
            "/usr/local/lib/python3.6/dist-packages/ipykernel_launcher.py:5: UserWarning: Update your `Conv2D` call to the Keras 2 API: `Conv2D(32, (3, 3), activation=\"relu\", input_shape=(28, 28, 1...)`\n",
            "  \"\"\"\n",
            "/usr/local/lib/python3.6/dist-packages/ipykernel_launcher.py:6: UserWarning: Update your `SeparableConv2D` call to the Keras 2 API: `SeparableConv2D(64, (3, 3), activation=\"relu\")`\n",
            "  \n",
            "/usr/local/lib/python3.6/dist-packages/ipykernel_launcher.py:7: UserWarning: Update your `SeparableConv2D` call to the Keras 2 API: `SeparableConv2D(64, (3, 3), activation=\"relu\")`\n",
            "  import sys\n",
            "/usr/local/lib/python3.6/dist-packages/ipykernel_launcher.py:12: UserWarning: Update your `SeparableConv2D` call to the Keras 2 API: `SeparableConv2D(32, (3, 3), activation=\"relu\")`\n",
            "  if sys.path[0] == '':\n",
            "/usr/local/lib/python3.6/dist-packages/ipykernel_launcher.py:13: UserWarning: Update your `SeparableConv2D` call to the Keras 2 API: `SeparableConv2D(64, (3, 3), activation=\"relu\")`\n",
            "  del sys.path[0]\n"
          ],
          "name": "stderr"
        }
      ]
    },
    {
      "cell_type": "code",
      "metadata": {
        "id": "TzdAYg1k9K7Z",
        "colab_type": "code",
        "outputId": "af73ad04-10d4-4ffd-ce29-99a7dd9141e9",
        "colab": {
          "base_uri": "https://localhost:8080/",
          "height": 544
        }
      },
      "source": [
        "model.summary()"
      ],
      "execution_count": 0,
      "outputs": [
        {
          "output_type": "stream",
          "text": [
            "_________________________________________________________________\n",
            "Layer (type)                 Output Shape              Param #   \n",
            "=================================================================\n",
            "conv2d_1 (Conv2D)            (None, 26, 26, 32)        320       \n",
            "_________________________________________________________________\n",
            "separable_conv2d_1 (Separabl (None, 24, 24, 64)        2400      \n",
            "_________________________________________________________________\n",
            "separable_conv2d_2 (Separabl (None, 22, 22, 64)        4736      \n",
            "_________________________________________________________________\n",
            "conv2d_2 (Conv2D)            (None, 22, 22, 32)        2080      \n",
            "_________________________________________________________________\n",
            "max_pooling2d_1 (MaxPooling2 (None, 11, 11, 32)        0         \n",
            "_________________________________________________________________\n",
            "separable_conv2d_3 (Separabl (None, 9, 9, 32)          1344      \n",
            "_________________________________________________________________\n",
            "separable_conv2d_4 (Separabl (None, 7, 7, 64)          2400      \n",
            "_________________________________________________________________\n",
            "conv2d_3 (Conv2D)            (None, 7, 7, 10)          650       \n",
            "_________________________________________________________________\n",
            "max_pooling2d_2 (MaxPooling2 (None, 3, 3, 10)          0         \n",
            "_________________________________________________________________\n",
            "conv2d_4 (Conv2D)            (None, 1, 1, 10)          910       \n",
            "_________________________________________________________________\n",
            "flatten_1 (Flatten)          (None, 10)                0         \n",
            "_________________________________________________________________\n",
            "activation_1 (Activation)    (None, 10)                0         \n",
            "=================================================================\n",
            "Total params: 14,840\n",
            "Trainable params: 14,840\n",
            "Non-trainable params: 0\n",
            "_________________________________________________________________\n"
          ],
          "name": "stdout"
        }
      ]
    },
    {
      "cell_type": "code",
      "metadata": {
        "id": "7ZyIlDqN1ImO",
        "colab_type": "code",
        "colab": {}
      },
      "source": [
        "########################################### Part of code for image augmentation ######################################\n",
        "\n",
        "### Commented as it did not help. Will work on it further. ###################\n",
        "\n",
        "#datagen.fit(X_train)"
      ],
      "execution_count": 0,
      "outputs": []
    },
    {
      "cell_type": "code",
      "metadata": {
        "id": "vde1XAUtD2XH",
        "colab_type": "code",
        "outputId": "8e2d939f-6b8e-484a-af0c-021ca71846ea",
        "colab": {
          "base_uri": "https://localhost:8080/",
          "height": 34
        }
      },
      "source": [
        "X_train.shape"
      ],
      "execution_count": 0,
      "outputs": [
        {
          "output_type": "execute_result",
          "data": {
            "text/plain": [
              "(60000, 28, 28, 1)"
            ]
          },
          "metadata": {
            "tags": []
          },
          "execution_count": 13
        }
      ]
    },
    {
      "cell_type": "markdown",
      "metadata": {
        "id": "OpDL6Pp1OUG8",
        "colab_type": "text"
      },
      "source": [
        "Reduced the default learning rate."
      ]
    },
    {
      "cell_type": "code",
      "metadata": {
        "id": "2JL3nhsxIBi6",
        "colab_type": "code",
        "colab": {}
      },
      "source": [
        "adam = keras.optimizers.Adam(lr=0.01, beta_1=0.9, beta_2=0.999, epsilon=None, decay=0.0, amsgrad=False)   # With reduced learning rate\n",
        "\n",
        "model.compile(loss='categorical_crossentropy',\n",
        "             optimizer=adam,\n",
        "             metrics=['accuracy'])"
      ],
      "execution_count": 0,
      "outputs": []
    },
    {
      "cell_type": "code",
      "metadata": {
        "id": "y6xd3u52NdtX",
        "colab_type": "code",
        "colab": {}
      },
      "source": [
        "########################################### Part of code for image augmentation ######################################\n",
        "\n",
        "### Commented as it did not help. Will work on it further. ###################\n",
        "\n",
        "#model.fit_generator(datagen.flow(X_train, Y_train, batch_size=32),\n",
        "#                    steps_per_epoch=len(X_train)//32, epochs=30, verbose=1)"
      ],
      "execution_count": 0,
      "outputs": []
    },
    {
      "cell_type": "code",
      "metadata": {
        "id": "ZwoSlE-xH_ts",
        "colab_type": "code",
        "outputId": "82aa2bde-2157-47d7-df54-37b44d5f1a9c",
        "colab": {
          "base_uri": "https://localhost:8080/",
          "height": 408
        }
      },
      "source": [
        "model.fit(X_train, Y_train, batch_size=1024, nb_epoch=10, verbose=1)"
      ],
      "execution_count": 0,
      "outputs": [
        {
          "output_type": "stream",
          "text": [
            "/usr/local/lib/python3.6/dist-packages/ipykernel_launcher.py:1: UserWarning: The `nb_epoch` argument in `fit` has been renamed `epochs`.\n",
            "  \"\"\"Entry point for launching an IPython kernel.\n"
          ],
          "name": "stderr"
        },
        {
          "output_type": "stream",
          "text": [
            "Epoch 1/10\n",
            "60000/60000 [==============================] - 11s 191us/step - loss: 0.0258 - acc: 0.9919\n",
            "Epoch 2/10\n",
            "60000/60000 [==============================] - 11s 190us/step - loss: 0.0275 - acc: 0.9907\n",
            "Epoch 3/10\n",
            "60000/60000 [==============================] - 11s 190us/step - loss: 0.0245 - acc: 0.9920\n",
            "Epoch 4/10\n",
            "60000/60000 [==============================] - 11s 190us/step - loss: 0.0238 - acc: 0.9924\n",
            "Epoch 5/10\n",
            "60000/60000 [==============================] - 11s 191us/step - loss: 0.0240 - acc: 0.9922\n",
            "Epoch 6/10\n",
            "60000/60000 [==============================] - 11s 189us/step - loss: 0.0237 - acc: 0.9921\n",
            "Epoch 7/10\n",
            "60000/60000 [==============================] - 11s 190us/step - loss: 0.0245 - acc: 0.9917\n",
            "Epoch 8/10\n",
            "60000/60000 [==============================] - 11s 189us/step - loss: 0.0226 - acc: 0.9920\n",
            "Epoch 9/10\n",
            "60000/60000 [==============================] - 11s 191us/step - loss: 0.0222 - acc: 0.9926\n",
            "Epoch 10/10\n",
            "60000/60000 [==============================] - 11s 190us/step - loss: 0.0254 - acc: 0.9916\n"
          ],
          "name": "stdout"
        },
        {
          "output_type": "execute_result",
          "data": {
            "text/plain": [
              "<keras.callbacks.History at 0x7fd31fecad30>"
            ]
          },
          "metadata": {
            "tags": []
          },
          "execution_count": 24
        }
      ]
    },
    {
      "cell_type": "code",
      "metadata": {
        "id": "AtsH-lLk-eLb",
        "colab_type": "code",
        "colab": {}
      },
      "source": [
        "score = model.evaluate(X_test, Y_test, verbose=0)"
      ],
      "execution_count": 0,
      "outputs": []
    },
    {
      "cell_type": "code",
      "metadata": {
        "id": "mkX8JMv79q9r",
        "colab_type": "code",
        "outputId": "fde5b3c9-4cb5-40e8-a028-c8911b82a09d",
        "colab": {
          "base_uri": "https://localhost:8080/",
          "height": 34
        }
      },
      "source": [
        "print(score)"
      ],
      "execution_count": 0,
      "outputs": [
        {
          "output_type": "stream",
          "text": [
            "[0.027036906338125846, 0.9931]\n"
          ],
          "name": "stdout"
        }
      ]
    },
    {
      "cell_type": "code",
      "metadata": {
        "id": "OCWoJkwE9suh",
        "colab_type": "code",
        "colab": {}
      },
      "source": [
        "y_pred = model.predict(X_test)"
      ],
      "execution_count": 0,
      "outputs": []
    },
    {
      "cell_type": "code",
      "metadata": {
        "id": "Ym7iCFBm9uBs",
        "colab_type": "code",
        "outputId": "4c5ac0ee-fc5a-43cd-a8a8-5242e16a181b",
        "colab": {
          "base_uri": "https://localhost:8080/",
          "height": 493
        }
      },
      "source": [
        "print(y_pred[:9])\n",
        "print(y_test[:9])"
      ],
      "execution_count": 0,
      "outputs": [
        {
          "output_type": "stream",
          "text": [
            "[[1.11881196e-21 1.53152339e-13 2.78910358e-12 4.66631433e-14\n",
            "  6.54365956e-18 2.92780901e-20 1.06648958e-31 1.00000000e+00\n",
            "  8.25197059e-20 4.23969956e-11]\n",
            " [1.20047750e-09 1.17587910e-11 1.00000000e+00 2.84605188e-15\n",
            "  7.35796840e-13 1.52014687e-17 6.85874066e-11 4.22658683e-15\n",
            "  1.27483224e-12 1.05799646e-12]\n",
            " [1.82565998e-08 9.99999762e-01 4.08514628e-12 1.02971787e-12\n",
            "  4.60897311e-08 1.11679242e-10 1.17069376e-07 4.96156041e-08\n",
            "  3.46700402e-09 2.58536248e-10]\n",
            " [1.00000000e+00 6.25599916e-32 1.77994561e-17 3.58635788e-16\n",
            "  3.02325053e-19 1.52980605e-14 6.42426806e-11 1.25065245e-26\n",
            "  1.26527215e-14 3.48167294e-11]\n",
            " [5.83622813e-19 7.82610608e-12 1.64391382e-13 1.12979555e-08\n",
            "  9.99999046e-01 1.14405707e-09 1.45916793e-10 4.57293621e-12\n",
            "  5.04753302e-07 4.68534040e-07]\n",
            " [1.36595601e-09 1.00000000e+00 7.19279711e-14 2.59606810e-16\n",
            "  1.83179942e-08 8.26444382e-13 1.31220468e-09 9.18900156e-09\n",
            "  1.55911551e-11 3.66943238e-12]\n",
            " [2.70885914e-32 1.27081878e-09 5.66300288e-17 5.94820449e-21\n",
            "  1.00000000e+00 2.98415725e-18 3.04411834e-25 2.63679599e-11\n",
            "  1.13940454e-20 3.05598727e-13]\n",
            " [1.30103075e-15 1.37048279e-14 6.21291994e-12 3.51844557e-13\n",
            "  1.69479748e-07 2.21553956e-11 5.04026002e-16 6.05319440e-12\n",
            "  4.32418381e-12 9.99999881e-01]\n",
            " [7.49344814e-13 9.17118486e-14 3.52240832e-08 1.90249239e-08\n",
            "  2.87777112e-07 9.92777765e-01 1.40191878e-05 2.14354350e-11\n",
            "  7.20803766e-03 2.17907683e-08]]\n",
            "[7 2 1 0 4 1 4 9 5]\n"
          ],
          "name": "stdout"
        }
      ]
    },
    {
      "cell_type": "code",
      "metadata": {
        "id": "CT--y98_dr2T",
        "colab_type": "code",
        "colab": {}
      },
      "source": [
        "layer_dict = dict([(layer.name, layer) for layer in model.layers])"
      ],
      "execution_count": 0,
      "outputs": []
    },
    {
      "cell_type": "code",
      "metadata": {
        "id": "2GY4Upv4dsUR",
        "colab_type": "code",
        "outputId": "749f3393-df83-4921-d158-a26d970faa60",
        "colab": {
          "base_uri": "https://localhost:8080/",
          "height": 839
        }
      },
      "source": [
        "import numpy as np\n",
        "from matplotlib import pyplot as plt\n",
        "from keras import backend as K\n",
        "%matplotlib inline\n",
        "# util function to convert a tensor into a valid image\n",
        "def deprocess_image(x):\n",
        "    # normalize tensor: center on 0., ensure std is 0.1\n",
        "    x -= x.mean()\n",
        "    x /= (x.std() + 1e-5)\n",
        "    x *= 0.1\n",
        "\n",
        "    # clip to [0, 1]\n",
        "    x += 0.5\n",
        "    x = np.clip(x, 0, 1)\n",
        "\n",
        "    # convert to RGB array\n",
        "    x *= 255\n",
        "    #x = x.transpose((1, 2, 0))\n",
        "    x = np.clip(x, 0, 255).astype('uint8')\n",
        "    return x\n",
        "\n",
        "def vis_img_in_filter(img = np.array(X_train[2]).reshape((1, 28, 28, 1)).astype(np.float64), \n",
        "                      layer_name = 'conv2d_9'):\n",
        "    layer_output = layer_dict[layer_name].output\n",
        "    img_ascs = list()\n",
        "    for filter_index in range(layer_output.shape[3]):\n",
        "        # build a loss function that maximizes the activation\n",
        "        # of the nth filter of the layer considered\n",
        "        loss = K.mean(layer_output[:, :, :, filter_index])\n",
        "\n",
        "        # compute the gradient of the input picture wrt this loss\n",
        "        grads = K.gradients(loss, model.input)[0]\n",
        "\n",
        "        # normalization trick: we normalize the gradient\n",
        "        grads /= (K.sqrt(K.mean(K.square(grads))) + 1e-5)\n",
        "\n",
        "        # this function returns the loss and grads given the input picture\n",
        "        iterate = K.function([model.input], [loss, grads])\n",
        "\n",
        "        # step size for gradient ascent\n",
        "        step = 5.\n",
        "\n",
        "        img_asc = np.array(img)\n",
        "        # run gradient ascent for 20 steps\n",
        "        for i in range(20):\n",
        "            loss_value, grads_value = iterate([img_asc])\n",
        "            img_asc += grads_value * step\n",
        "\n",
        "        img_asc = img_asc[0]\n",
        "        img_ascs.append(deprocess_image(img_asc).reshape((28, 28)))\n",
        "        \n",
        "    if layer_output.shape[3] >= 35:\n",
        "        plot_x, plot_y = 6, 6\n",
        "    elif layer_output.shape[3] >= 23:\n",
        "        plot_x, plot_y = 4, 6\n",
        "    elif layer_output.shape[3] >= 11:\n",
        "        plot_x, plot_y = 2, 6\n",
        "    else:\n",
        "        plot_x, plot_y = 1, 2\n",
        "    fig, ax = plt.subplots(plot_x, plot_y, figsize = (12, 12))\n",
        "    ax[0, 0].imshow(img.reshape((28, 28)), cmap = 'gray')\n",
        "    ax[0, 0].set_title('Input image')\n",
        "    fig.suptitle('Input image and %s filters' % (layer_name,))\n",
        "    fig.tight_layout(pad = 0.3, rect = [0, 0, 0.9, 0.9])\n",
        "    for (x, y) in [(i, j) for i in range(plot_x) for j in range(plot_y)]:\n",
        "        if x == 0 and y == 0:\n",
        "            continue\n",
        "        ax[x, y].imshow(img_ascs[x * plot_y + y - 1], cmap = 'gray')\n",
        "        ax[x, y].set_title('filter %d' % (x * plot_y + y - 1))\n",
        "\n",
        "vis_img_in_filter()"
      ],
      "execution_count": 0,
      "outputs": [
        {
          "output_type": "display_data",
          "data": {
            "image/png": "[encoded data removed]",
            "text/plain": [
              "<Figure size 864x864 with 24 Axes>"
            ]
          },
          "metadata": {
            "tags": []
          }
        }
      ]
    },
    {
      "cell_type": "code",
      "metadata": {
        "id": "9tvptcn8dxvp",
        "colab_type": "code",
        "colab": {}
      },
      "source": [
        ""
      ],
      "execution_count": 0,
      "outputs": []
    }
  ]
}